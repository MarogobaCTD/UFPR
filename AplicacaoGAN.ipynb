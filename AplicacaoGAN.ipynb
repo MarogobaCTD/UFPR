{
  "nbformat": 4,
  "nbformat_minor": 0,
  "metadata": {
    "colab": {
      "private_outputs": true,
      "provenance": [],
      "gpuType": "T4",
      "authorship_tag": "ABX9TyNcj3xo7R6+XpZjEYBeQLsE",
      "include_colab_link": true
    },
    "kernelspec": {
      "name": "python3",
      "display_name": "Python 3"
    },
    "language_info": {
      "name": "python"
    },
    "accelerator": "GPU"
  },
  "cells": [
    {
      "cell_type": "markdown",
      "metadata": {
        "id": "view-in-github",
        "colab_type": "text"
      },
      "source": [
        "<a href=\"https://colab.research.google.com/github/MarogobaCTD/UFPR/blob/main/AplicacaoGAN.ipynb\" target=\"_parent\"><img src=\"https://colab.research.google.com/assets/colab-badge.svg\" alt=\"Open In Colab\"/></a>"
      ]
    },
    {
      "cell_type": "code",
      "execution_count": null,
      "metadata": {
        "id": "BehZsUAvQ1do"
      },
      "outputs": [],
      "source": [
        "# Para Gerar os GIFs\n",
        "!pip install imageio\n",
        "!pip install git+https://github.com/tensorflow/docs"
      ]
    },
    {
      "cell_type": "code",
      "source": [
        "# Importações\n",
        "import tensorflow as tf\n",
        "import glob\n",
        "import imageio\n",
        "import matplotlib.pyplot as plt\n",
        "import numpy as np\n",
        "import os\n",
        "import PIL\n",
        "from tensorflow.keras import layers\n",
        "import time\n",
        "from IPython import display"
      ],
      "metadata": {
        "id": "BSVk32U8RB86"
      },
      "execution_count": null,
      "outputs": []
    },
    {
      "cell_type": "code",
      "source": [
        "# Carregar a base de dados\n",
        "(train_images, train_labels), (_, _) = tf.keras.datasets.mnist.load_data()\n",
        "# Normalização\n",
        "train_images = train_images.reshape(train_images.shape[0], 28, 28, 1).astype('float32')\n",
        "train_images = (train_images - 127.5) / 127.5 # Normaliza entre [-1, 1]\n",
        "# Gera o banco em partes e randomiza\n",
        "BUFFER_SIZE = 60000\n",
        "BATCH_SIZE = 256\n",
        "# Cria o dataset (from_tensor_slices)\n",
        "# Randomiza (shuffle)\n",
        "# Combina elementos consecutivos em lotes (batch)\n",
        "train_dataset = tf.data.Dataset.from_tensor_slices(train_images).\n",
        "shuffle(BUFFER_SIZE).batch(BATCH_SIZE)"
      ],
      "metadata": {
        "id": "y7yVXdg1RFCU"
      },
      "execution_count": null,
      "outputs": []
    },
    {
      "cell_type": "code",
      "source": [
        "# Cria o GERADOR\n",
        "def make_generator_model():\n",
        "model = tf.keras.Sequential()\n",
        "model.add(layers.Dense(7*7*256, use_bias=False,\n",
        "input_shape=(100,)))\n",
        "model.add(layers.BatchNormalization())\n",
        "model.add(layers.LeakyReLU())\n",
        "model.add(layers.Reshape((7, 7, 256)))\n",
        "assert model.output_shape == (None, 7, 7, 256)\n",
        "# Note: None is the batch size\n",
        "model.add(layers.Conv2DTranspose(128, (5, 5),\n",
        "strides=(1, 1), padding='same’, use_bias=False))\n",
        "assert model.output_shape == (None, 7, 7, 128)\n",
        "model.add(layers.BatchNormalization())\n",
        "model.add(layers.LeakyReLU())\n",
        "model.add(layers.Conv2DTranspose(64, (5, 5),\n",
        "strides=(2, 2), padding='same’, use_bias=False))\n",
        "assert model.output_shape == (None, 14, 14, 64)\n",
        "model.add(layers.BatchNormalization())\n",
        "model.add(layers.LeakyReLU())\n",
        "model.add(layers.Conv2DTranspose(1, (5, 5),\n",
        "strides=(2, 2), padding='same’, use_bias=False,\n",
        "activation='tanh'))\n",
        "assert model.output_shape == (None, 28, 28, 1)\n",
        "return model"
      ],
      "metadata": {
        "id": "QXjAlk1lRIuz"
      },
      "execution_count": null,
      "outputs": []
    },
    {
      "cell_type": "code",
      "source": [
        "# Teste do GERADOR, ainda não treinado\n",
        "generator = make_generator_model()\n",
        "noise = tf.random.normal([1, 100])\n",
        "generated_image = generator(noise, training=False)\n",
        "plt.imshow(generated_image[0, :, :, 0], cmap='gray')"
      ],
      "metadata": {
        "id": "c7esIf74RPjf"
      },
      "execution_count": null,
      "outputs": []
    },
    {
      "cell_type": "code",
      "source": [
        "# Cria o DISCRIMINADOR\n",
        "def make_discriminator_model():\n",
        "model = tf.keras.Sequential()\n",
        "model.add(layers.Conv2D(64, (5, 5), strides=(2, 2), padding='same',\n",
        "input_shape=[28, 28, 1]))\n",
        "model.add(layers.LeakyReLU())\n",
        "model.add(layers.Dropout(0.3))\n",
        "model.add(layers.Conv2D(128, (5, 5), strides=(2, 2), padding='same'))\n",
        "model.add(layers.LeakyReLU())\n",
        "model.add(layers.Dropout(0.3))\n",
        "model.add(layers.Flatten())\n",
        "model.add(layers.Dense(1))\n",
        "return model"
      ],
      "metadata": {
        "id": "Sme81l6aRT6N"
      },
      "execution_count": null,
      "outputs": []
    },
    {
      "cell_type": "code",
      "source": [
        "# Teste do DISCRIMINADOR, ainda não treinado\n",
        "discriminator = make_discriminator_model()\n",
        "decision = discriminator(generated_image)\n",
        "print (decision)"
      ],
      "metadata": {
        "id": "ti66R-bqRXt2"
      },
      "execution_count": null,
      "outputs": []
    },
    {
      "cell_type": "code",
      "source": [
        "# Define as funções de perda\n",
        "cross_entropy = tf.keras.losses.BinaryCrossentropy(from_logits=True)\n",
        "# Perda do DISCRIMINADOR\n",
        "def discriminator_loss(real_output, fake_output):\n",
        "real_loss = cross_entropy(tf.ones_like(real_output), real_output)\n",
        "fake_loss = cross_entropy(tf.zeros_like(fake_output), fake_output)\n",
        "total_loss = real_loss + fake_loss\n",
        "return total_loss\n",
        "# Perda do GERADOR\n",
        "def generator_loss(fake_output):\n",
        "return cross_entropy(tf.ones_like(fake_output), fake_output)"
      ],
      "metadata": {
        "id": "Kb5BGh3nRbYD"
      },
      "execution_count": null,
      "outputs": []
    },
    {
      "cell_type": "code",
      "source": [
        "# Cria os otimizadores para o gerador e discriminador\n",
        "generator_optimizer = tf.keras.optimizers.Adam(1e-4)\n",
        "discriminator_optimizer = tf.keras.optimizers.Adam(1e-4)"
      ],
      "metadata": {
        "id": "pMTZ6pOBReaf"
      },
      "execution_count": null,
      "outputs": []
    },
    {
      "cell_type": "code",
      "source": [
        "# Cria checkpoints para salvar modelos ao longo do tempo\n",
        "# Úteis em tarefas longas, para se recuperar de um desligamento\n",
        "checkpoint_dir = './training_checkpoints'\n",
        "checkpoint_prefix = os.path.join(checkpoint_dir, \"ckpt\")\n",
        "checkpoint = tf.train.Checkpoint(generator_optimizer=generator_optimizer,\n",
        "discriminator_optimizer=discriminator_optimizer,\n",
        "generator=generator,\n",
        "discriminator=discriminator)"
      ],
      "metadata": {
        "id": "4kr7GspRRi3R"
      },
      "execution_count": null,
      "outputs": []
    },
    {
      "cell_type": "code",
      "source": [
        "# Configura o Loop de treinamento\n",
        "EPOCHS = 100\n",
        "noise_dim = 100\n",
        "num_examples_to_generate = 16\n",
        "# You will reuse this seed overtime (so it's easier)\n",
        "# to visualize progress in the animated GIF)\n",
        "seed = tf.random.normal([num_examples_to_generate, noise_dim])\n"
      ],
      "metadata": {
        "id": "pmvtptwQRlhf"
      },
      "execution_count": null,
      "outputs": []
    },
    {
      "cell_type": "code",
      "source": [
        "# Função que faz um passo de treinamento\n",
        "# É uma `tf.function`, que compila essa função\n",
        "@tf.function\n",
        "def train_step(images):\n",
        "noise = tf.random.normal([BATCH_SIZE, noise_dim])\n",
        "with tf.GradientTape() as gen_tape, tf.GradientTape() as disc_tape:\n",
        "generated_images = generator(noise, training=True)\n",
        "real_output = discriminator(images, training=True)\n",
        "fake_output = discriminator(generated_images, training=True)\n",
        "gen_loss = generator_loss(fake_output)\n",
        "disc_loss = discriminator_loss(real_output, fake_output)\n",
        "gradients_of_generator = gen_tape.gradient(gen_loss, generator.trainable_variables)\n",
        "gradients_of_discriminator = disc_tape.gradient(disc_loss, discriminator.trainable_variables)\n",
        "generator_optimizer.apply_gradients(zip(gradients_of_generator, generator.trainable_variables))\n",
        "discriminator_optimizer.apply_gradients(zip(gradients_of_discriminator,\n",
        "discriminator.trainable_variables))"
      ],
      "metadata": {
        "id": "rShbtUphRos4"
      },
      "execution_count": null,
      "outputs": []
    },
    {
      "cell_type": "code",
      "source": [
        "# Treinamento completo/laço\n",
        "def train(dataset, epochs):\n",
        "for epoch in range(epochs):\n",
        "start = time.time()\n",
        "for image_batch in dataset:\n",
        "train_step(image_batch)\n",
        "# Produce images for the GIF as you go\n",
        "display.clear_output(wait=True)\n",
        "generate_and_save_images(generator, epoch + 1, seed)\n",
        "# Save the model every 15 epochs\n",
        "if (epoch + 1) % 15 == 0:\n",
        "checkpoint.save(file_prefix = checkpoint_prefix)\n",
        "print ('Time for epoch {} is {} sec'.format(epoch + 1, time.time()-start))\n",
        "# Generate after the final epoch\n",
        "display.clear_output(wait=True)\n",
        "generate_and_save_images(generator, epochs, seed)"
      ],
      "metadata": {
        "id": "8Wl43yZMS68g"
      },
      "execution_count": null,
      "outputs": []
    },
    {
      "cell_type": "code",
      "source": [
        "# Gerar e salvar imagens\n",
        "def generate_and_save_images(model, epoch, test_input):\n",
        "# Notice `training` is set to False.\n",
        "# This is so all layers run in inference mode (batchnorm).\n",
        "predictions = model(test_input, training=False)\n",
        "fig = plt.figure(figsize=(4, 4))\n",
        "for i in range(predictions.shape[0]):\n",
        "plt.subplot(4, 4, i+1)\n",
        "plt.imshow(predictions[i, :, :, 0] * 127.5 + 127.5, cmap='gray')\n",
        "plt.axis('off')\n",
        "plt.savefig('image_at_epoch_{:04d}.png'.format(epoch))\n",
        "plt.show()"
      ],
      "metadata": {
        "id": "-_ubsnEXTvCO"
      },
      "execution_count": null,
      "outputs": []
    },
    {
      "cell_type": "code",
      "source": [
        "# Treinar o modelo e restaurar o último ponto de verificação\n",
        "train(train_dataset, EPOCHS)\n",
        "checkpoint.restore(tf.train.latest_checkpoint(checkpoint_dir))"
      ],
      "metadata": {
        "id": "ktdhxwWXT5AA"
      },
      "execution_count": null,
      "outputs": []
    },
    {
      "cell_type": "code",
      "source": [
        "# Criar um GIF\n",
        "# Display a single image using the epoch number\n",
        "def display_image(epoch_no):\n",
        "return PIL.Image.open('image_at_epoch_{:04d}.png'.format(epoch_no))\n",
        "display_image(EPOCHS)\n",
        "anim_file = 'dcgan.gif'\n",
        "with imageio.get_writer(anim_file, mode='I') as writer:\n",
        "filenames = glob.glob('image*.png')\n",
        "filenames = sorted(filenames)\n",
        "for filename in filenames:\n",
        "image = imageio.imread(filename)\n",
        "writer.append_data(image)\n",
        "image = imageio.imread(filename)\n",
        "writer.append_data(image)\n",
        "import tensorflow_docs.vis.embed as embed\n",
        "embed.embed_file(anim_file)"
      ],
      "metadata": {
        "id": "2M5Y3EaPT7vk"
      },
      "execution_count": null,
      "outputs": []
    }
  ]
}