{
  "nbformat": 4,
  "nbformat_minor": 0,
  "metadata": {
    "colab": {
      "private_outputs": true,
      "provenance": [],
      "authorship_tag": "ABX9TyO0UNe1RkASZbRFd7eWLPVr",
      "include_colab_link": true
    },
    "kernelspec": {
      "name": "python3",
      "display_name": "Python 3"
    },
    "language_info": {
      "name": "python"
    }
  },
  "cells": [
    {
      "cell_type": "markdown",
      "metadata": {
        "id": "view-in-github",
        "colab_type": "text"
      },
      "source": [
        "<a href=\"https://colab.research.google.com/github/MarogobaCTD/UFPR/blob/main/cnn_pratica_IAA009.ipynb\" target=\"_parent\"><img src=\"https://colab.research.google.com/assets/colab-badge.svg\" alt=\"Open In Colab\"/></a>"
      ]
    },
    {
      "cell_type": "code",
      "execution_count": null,
      "metadata": {
        "id": "WPRf4eGnv02p"
      },
      "outputs": [],
      "source": [
        "import tensorflow as tf\n",
        "import numpy as np\n",
        "import matplotlib.pyplot as plt\n",
        "from tensorflow.keras.layers import Input, Conv2D, Dense, Flatten, Dropout\n",
        "from tensorflow.keras.models import Model\n",
        "from mlxtend.plotting import plot_confusion_matrix\n",
        "from sklearn.metrics import confusion_matrix"
      ]
    },
    {
      "cell_type": "code",
      "source": [
        "# Carga da base\n",
        "cifar10 = tf.keras.datasets.cifar10"
      ],
      "metadata": {
        "id": "Cc1gM6G7wNvO"
      },
      "execution_count": null,
      "outputs": []
    },
    {
      "cell_type": "code",
      "source": [
        "# Já está separado em dados de treino e teste\n",
        "# Não precisa separar\n",
        "(x_train, y_train), (x_test, y_test) = cifar10.load_data()"
      ],
      "metadata": {
        "id": "sb8PF9kQwTuk"
      },
      "execution_count": null,
      "outputs": []
    },
    {
      "cell_type": "code",
      "source": [
        "# Normalização os dados\n",
        "# Imagens em pixels de 0 - 255\n",
        "# / 255.0 transforma em 0 - 1\n",
        "x_train, x_test = x_train / 255.0, x_test / 255.0\n",
        "# O dado y é a classe a qual faz parte\n",
        "# O flattem torna os dados vetorizados\n",
        "y_train, y_test = y_train.flatten(), y_test.flatten()\n",
        "# Dimensão dos dados\n",
        "print(\"x_train.shape: \", x_train.shape)\n",
        "print(\"y_train.shape: \", y_train.shape)\n",
        "print(\"x_test.shape: \", x_test.shape)\n",
        "print(\"y_test.shape: \", y_test.shape)"
      ],
      "metadata": {
        "id": "cW-wcDWVwf0v"
      },
      "execution_count": null,
      "outputs": []
    },
    {
      "cell_type": "code",
      "source": [
        "K = len(set(y_train))\n",
        "# Aqui começa o Estágio 1\n",
        "i = Input(shape=x_train[0].shape)\n",
        "x = Conv2D(32, (3, 3), strides=2, activation=\"relu\")(i)\n",
        "x = Conv2D(64, (3, 3), strides=2, activation=\"relu\")(x)\n",
        "x = Conv2D(128, (3, 3), strides=2, activation=\"relu\")(x)\n",
        "# Todas as imagens são do mesmo tamanho, não precisa de Global Pooling\n",
        "x = Flatten()(x)\n",
        "# Aqui começa o Estágio 2\n",
        "x = Dropout(0.5)(x)\n",
        "x = Dense(1024, activation=\"relu\")(x)\n",
        "x = Dropout(0.2)(x)\n",
        "x = Dense(K, activation=\"softmax\")(x)\n",
        "# Model ( lista entrada, lista saída)\n",
        "model = Model(i, x)"
      ],
      "metadata": {
        "id": "9_a_scSUzz-9"
      },
      "execution_count": null,
      "outputs": []
    },
    {
      "cell_type": "code",
      "source": [
        "# Relatório sobre a arquitetura da rede\n",
        "model.summary()"
      ],
      "metadata": {
        "id": "erco1UVl1vBq"
      },
      "execution_count": null,
      "outputs": []
    },
    {
      "cell_type": "code",
      "source": [
        "# Compilar o modelo\n",
        "model.compile(optimizer=\"adam\",\n",
        "loss=\"sparse_categorical_crossentropy\", metrics=[\"accuracy\"])\n",
        "# Treinar o modelo\n",
        "r = model.fit(x_train, y_train, validation_data=(x_test, y_test),\n",
        "epochs=15)"
      ],
      "metadata": {
        "id": "oCCIuvUR18na"
      },
      "execution_count": null,
      "outputs": []
    },
    {
      "cell_type": "code",
      "source": [
        "# Plotar a função de perda, treino e validação\n",
        "plt.plot(r.history[\"loss\"], label=\"loss\")\n",
        "plt.plot(r.history[\"val_loss\"], label=\"val_loss\")\n",
        "plt.legend()\n",
        "plt.show()\n",
        "# Plotar acurácia, treino e validação\n",
        "plt.plot(r.history[\"accuracy\"], label=\"acc\")\n",
        "plt.plot(r.history[\"val_accuracy\"], label=\"val_acc\")\n",
        "plt.legend()\n",
        "plt.show()"
      ],
      "metadata": {
        "id": "fqANn1qA2Cgy"
      },
      "execution_count": null,
      "outputs": []
    },
    {
      "cell_type": "code",
      "source": [
        "# Efetuar predições na base de teste\n",
        "# argmax é usado pois a função de ativação da saída é softmax\n",
        "# argmax pega o neurônio que deu o maior resultado, isto é,\n",
        "# a maior probabilidade de saída\n",
        "y_pred = model.predict(x_test).argmax(axis=1)\n",
        "# Mostrar a matriz de confusão\n",
        "cm = confusion_matrix(y_test, y_pred)\n",
        "plot_confusion_matrix(conf_mat=cm, figsize=(7, 7),\n",
        "show_normed=True)"
      ],
      "metadata": {
        "id": "kJU8_hg_2VI-"
      },
      "execution_count": null,
      "outputs": []
    },
    {
      "cell_type": "code",
      "source": [
        "# Mostrar algumas classificações erradas\n",
        "labels= [\"airplane\", \"automobile\", \"bird\", \"cat\", \"deer\", \"dog\",\n",
        "\"frog\", \"horse\", \"ship\", \"truck\"]\n",
        "misclassified = np.where(y_pred != y_test)[0]\n",
        "i = np.random.choice(misclassified)\n",
        "plt.imshow(x_test[i], cmap=\"gray\")\n",
        "plt.title(\"True label: %s Predicted: %s\" % (labels[y_test[i]],\n",
        "labels[y_pred[i]]))"
      ],
      "metadata": {
        "id": "cW8NLFzf2aLL"
      },
      "execution_count": null,
      "outputs": []
    },
    {
      "cell_type": "code",
      "source": [],
      "metadata": {
        "id": "84H5XXYi2a8X"
      },
      "execution_count": null,
      "outputs": []
    }
  ]
}