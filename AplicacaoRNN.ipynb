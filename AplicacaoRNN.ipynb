{
  "nbformat": 4,
  "nbformat_minor": 0,
  "metadata": {
    "colab": {
      "private_outputs": true,
      "provenance": [],
      "gpuType": "T4",
      "authorship_tag": "ABX9TyN/Xdxz5DkfA+x+yjgN5zDZ",
      "include_colab_link": true
    },
    "kernelspec": {
      "name": "python3",
      "display_name": "Python 3"
    },
    "language_info": {
      "name": "python"
    },
    "accelerator": "GPU"
  },
  "cells": [
    {
      "cell_type": "markdown",
      "metadata": {
        "id": "view-in-github",
        "colab_type": "text"
      },
      "source": [
        "<a href=\"https://colab.research.google.com/github/MarogobaCTD/UFPR/blob/main/AplicacaoRNN.ipynb\" target=\"_parent\"><img src=\"https://colab.research.google.com/assets/colab-badge.svg\" alt=\"Open In Colab\"/></a>"
      ]
    },
    {
      "cell_type": "code",
      "source": [
        "# Importação das Bibliotecas\n",
        "import tensorflow as tf\n",
        "import numpy as np\n",
        "import matplotlib.pyplot as plt\n",
        "import pandas as pd\n",
        "from sklearn.model_selection import train_test_split\n",
        "from tensorflow.keras.layers import Input, Embedding, LSTM, Dense\n",
        "from tensorflow.keras.layers import GlobalMaxPooling1D\n",
        "from tensorflow.keras.models import Model\n",
        "from tensorflow.keras.preprocessing.sequence import pad_sequences\n",
        "from tensorflow.keras.preprocessing.text import Tokenizer"
      ],
      "metadata": {
        "id": "PkSgi6yMJ-KI"
      },
      "execution_count": null,
      "outputs": []
    },
    {
      "cell_type": "code",
      "source": [
        "# carrega e arruma a base\n",
        "!wget http://www.razer.net.br/datasets/spam.csv\n",
        "df = pd.read_csv(\"spam.csv\", encoding=\"ISO-8859-1\")\n",
        "df.head()\n",
        "df = df.drop([\"Unnamed: 2\", \"Unnamed: 3\", \"Unnamed: 4\"], axis=1)\n",
        "df.columns = [\"labels\", \"data\"]\n",
        "df[\"b_labels\"] = df[\"labels\"].map({ \"ham\": 0, \"spam\": 1})\n",
        "y = df[\"b_labels\"].values"
      ],
      "metadata": {
        "id": "fR_9fEBJuq48"
      },
      "execution_count": null,
      "outputs": []
    },
    {
      "cell_type": "code",
      "source": [
        "# Separa a base em treino e teste\n",
        "x_train, x_test, y_train, y_test = train_test_split(df[\"data\"], y,\n",
        "test_size=0.33)"
      ],
      "metadata": {
        "id": "7iaE8_iXJNnG"
      },
      "execution_count": null,
      "outputs": []
    },
    {
      "cell_type": "code",
      "source": [
        "# Número máximo de palavras para considerar\n",
        "# São consideradas as mais frequentes, as demais são\n",
        "# ignoradas\n",
        "num_words = 20000\n",
        "tokenizer = Tokenizer(num_words=num_words)\n",
        "tokenizer.fit_on_texts(x_train)\n",
        "sequences_train = tokenizer.texts_to_sequences(x_train)\n",
        "sequences_test = tokenizer.texts_to_sequences(x_test)\n",
        "word2index = tokenizer.word_index\n",
        "V = len(word2index)\n",
        "print(\"%s tokens\" % V)"
      ],
      "metadata": {
        "id": "MIm1O3gSJOiv"
      },
      "execution_count": null,
      "outputs": []
    },
    {
      "cell_type": "code",
      "source": [
        "# Acerta o tamanho das sequências (padding)\n",
        "data_train = pad_sequences(sequences_train) # usa o tamanho da maior seq.\n",
        "T = data_train.shape[1] # tamanho da sequência\n",
        "data_test = pad_sequences(sequences_test, maxlen=T)\n",
        "print(\"data_train.shape: \", data_train.shape)\n",
        "print(\"data_test.shape: \", data_test.shape)"
      ],
      "metadata": {
        "id": "IyNf69rzJWcJ"
      },
      "execution_count": null,
      "outputs": []
    },
    {
      "cell_type": "code",
      "source": [
        "# Define o modelo\n",
        "D = 20 # tamanho do embedding, hiperparâmetro que pode ser escolhido\n",
        "M = 5 # tamanho do hidden state, quantidade de unidades LSTM\n",
        "i = Input(shape=(T,)) # Entra uma frase inteira\n",
        "x = Embedding(V+1, D)(i)\n",
        "x = LSTM(M)(x)\n",
        "x = Dense(1, activation=\"sigmoid\")(x) # Sigmoide pois só tem 2 valores\n",
        "model = Model(i, x)"
      ],
      "metadata": {
        "id": "GCvmnbVDJZ8E"
      },
      "execution_count": null,
      "outputs": []
    },
    {
      "cell_type": "code",
      "source": [
        "model.summary()"
      ],
      "metadata": {
        "id": "g78bVxULJe8v"
      },
      "execution_count": null,
      "outputs": []
    },
    {
      "cell_type": "code",
      "source": [
        "# Compila e treina o modelo\n",
        "model.compile(loss=\"binary_crossentropy\", optimizer=\"adam\",\n",
        "metrics=[\"accuracy\"])\n",
        "epochs = 5\n",
        "r = model.fit(data_train, y_train, epochs=epochs, validation_data=(data_test,\n",
        "y_test))"
      ],
      "metadata": {
        "id": "DSm5tW-9Jigz"
      },
      "execution_count": null,
      "outputs": []
    },
    {
      "cell_type": "code",
      "source": [
        "# Plota função de perda e acurácia\n",
        "plt.plot(r.history[\"loss\"], label=\"loss\")\n",
        "plt.plot(r.history[\"val_loss\"], label=\"val_loss\")\n",
        "plt.xlabel(\"Épocas\")\n",
        "plt.ylabel(\"loss\")\n",
        "plt.xticks(np.arange(0, epochs, step=1), labels=range(1, epochs+1))\n",
        "plt.legend()\n",
        "plt.show()\n",
        "plt.plot(r.history[\"accuracy\"], label=\"accuracy\")\n",
        "plt.plot(r.history[\"val_accuracy\"], label=\"val_accuracy\")\n",
        "plt.xlabel(\"Épocas\")\n",
        "plt.ylabel(\"Acurácia\")\n",
        "plt.xticks(np.arange(0, epochs, step=1), labels=range(1, epochs+1))\n",
        "plt.legend()\n",
        "plt.show()"
      ],
      "metadata": {
        "id": "LG232ie3Jifd"
      },
      "execution_count": null,
      "outputs": []
    },
    {
      "cell_type": "code",
      "source": [
        "# Efetua a predição de um texto novo\n",
        "#texto = \"Hi, my name is Razer and want to tell you something.\"\n",
        "texto = \"Is your car dirty? Discover our new product. Free for all. Click the link.\"\n",
        "seq_texto = tokenizer.texts_to_sequences([texto]) # Tokeniza\n",
        "data_texto = pad_sequences(seq_texto, maxlen=T) # Padding\n",
        "pred = model.predict(data_texto) # Predição\n",
        "print(pred)\n",
        "print (\"SPAM\" if pred >= 0.5 else \"OK\")"
      ],
      "metadata": {
        "id": "NwWXhZLLJwh-"
      },
      "execution_count": null,
      "outputs": []
    }
  ]
}